{
 "cells": [
  {
   "cell_type": "code",
   "execution_count": 1,
   "metadata": {},
   "outputs": [],
   "source": [
    "import os \n",
    "from collections import namedtuple as tup\n",
    "import argparse\n",
    "\n",
    "\n",
    "import numpy as np\n",
    "import torch\n",
    "import torch.autograd as autograd\n",
    "import torch.nn as nn\n",
    "import torch.nn.functional as F\n",
    "import torch.optim as optim\n",
    "from IPython.display import clear_output\n",
    "from torch.utils.data import DataLoader, Dataset\n",
    "from tqdm import tqdm\n",
    "\n",
    "from sched import SchedT1Dataset\n",
    "from sched_solver import Solver\n",
    "from sched_heuristic import get_rm_solution\n",
    "from sched_heuristic import liu_test\n",
    "import sched_heuristic as heu\n",
    "import pickle"
   ]
  },
  {
   "cell_type": "code",
   "execution_count": 17,
   "metadata": {},
   "outputs": [],
   "source": [
    "Args = tup(\n",
    "    \"Argument\",\n",
    "    \"seq_len num_procs num_sample period_range util\")\n",
    "\n",
    "\n",
    "NUM_SAMPLES = 10000\n",
    "GRANUALITY = 20 "
   ]
  },
  {
   "cell_type": "code",
   "execution_count": 18,
   "metadata": {},
   "outputs": [],
   "source": [
    "\n",
    "step = 8 / 20\n",
    "util_range = np.arange(step, 8, step)"
   ]
  },
  {
   "cell_type": "code",
   "execution_count": 170,
   "metadata": {},
   "outputs": [],
   "source": [
    "## data/#procs_#tasks\n",
    "import sched\n",
    "import importlib\n",
    "importlib.reload(sched)\n",
    "def gen_taskset(num_procs, seq_len, ddir=\"data\"):\n",
    "    try:\n",
    "        os.mkdir(ddir)\n",
    "    except FileExistsError:\n",
    "        pass \n",
    "    base = \"%s/%d-%d\" % (ddir, num_procs, seq_len)\n",
    "    try:\n",
    "        os.mkdir(base)\n",
    "    except FileExistsError:\n",
    "        pass \n",
    "\n",
    "    \n",
    "    step = 0.05\n",
    "\n",
    "    for util in np.arange(step, num_procs, step):\n",
    "        args = Args(seq_len=seq_len, \n",
    "            num_procs=num_procs, \n",
    "            num_sample=NUM_SAMPLES, \n",
    "            period_range=(10, 10000), \n",
    "            util=util)\n",
    "        dataset = sched.SchedT1Dataset(args.num_procs, args.seq_len, args.num_sample, args.period_range, args.util, gg=True)\n",
    "        with open(os.path.join(base, \"%0.2f\" % util), 'wb') as f:\n",
    "            pickle.dump(dataset, f)\n"
   ]
  },
  {
   "cell_type": "code",
   "execution_count": 171,
   "metadata": {},
   "outputs": [
    {
     "name": "stdout",
     "output_type": "stream",
     "text": [
      "int64\n",
      "int64\n",
      "int64\n"
     ]
    }
   ],
   "source": [
    "importlib.reload(sched)\n",
    "base=\"TMP\"\n",
    "args = Args(seq_len=16, \n",
    "            num_procs=2, \n",
    "            num_sample=10000, \n",
    "            period_range=(2, 512), \n",
    "            util=0.3)\n",
    "dataset = sched.SchedT1Dataset(args.num_procs, args.seq_len, args.num_sample, args.period_range, args.util, gg=True)\n",
    "with open(\"TMP\", 'wb') as f:\n",
    "    pickle.dump(dataset, f)"
   ]
  },
  {
   "cell_type": "code",
   "execution_count": 172,
   "metadata": {},
   "outputs": [],
   "source": [
    "with open(\"TMP\", \"rb\") as f:\n",
    "    ret = pickle.load(f)"
   ]
  },
  {
   "cell_type": "code",
   "execution_count": 113,
   "metadata": {},
   "outputs": [],
   "source": [
    "x = np.array([ret[0][1], ret[1][1]])"
   ]
  },
  {
   "cell_type": "code",
   "execution_count": 114,
   "metadata": {},
   "outputs": [
    {
     "data": {
      "text/plain": [
       "array([[[  56,    1,   24],\n",
       "        [ 423,   17,   59],\n",
       "        [ 117,    1,   21],\n",
       "        [ 145,   12,   70],\n",
       "        [  37,    3,   13],\n",
       "        [ 290,    8,  183],\n",
       "        [ 164,   16,   37],\n",
       "        [ 148,    5,  107],\n",
       "        [ 116,    6,   46],\n",
       "        [  97,    2,   34]],\n",
       "\n",
       "       [[  13,    1,   12],\n",
       "        [4895,  878, 2302],\n",
       "        [  16,    2,    2],\n",
       "        [  17,    1,   15],\n",
       "        [ 252,    4,   42],\n",
       "        [  12,    1,    5],\n",
       "        [ 573,   25,   94],\n",
       "        [2569,  220,  465],\n",
       "        [ 149,   26,   82],\n",
       "        [ 749,   51,  583]]])"
      ]
     },
     "execution_count": 114,
     "metadata": {},
     "output_type": "execute_result"
    }
   ],
   "source": [
    "x"
   ]
  },
  {
   "cell_type": "code",
   "execution_count": 110,
   "metadata": {},
   "outputs": [],
   "source": [
    "inputs = x"
   ]
  },
  {
   "cell_type": "code",
   "execution_count": 111,
   "metadata": {},
   "outputs": [],
   "source": [
    "div = np.stack([\n",
    "            (inputs[:, :, 1] / inputs[:, :, 0]), # Utilization\n",
    "            (1.0 / inputs[:, :, 0] * 0.1)], axis=-1)"
   ]
  },
  {
   "cell_type": "code",
   "execution_count": 112,
   "metadata": {},
   "outputs": [
    {
     "data": {
      "text/plain": [
       "array([[[1.78571429e-02, 1.78571429e-03],\n",
       "        [4.01891253e-02, 2.36406619e-04],\n",
       "        [8.54700855e-03, 8.54700855e-04],\n",
       "        [8.27586207e-02, 6.89655172e-04],\n",
       "        [8.10810811e-02, 2.70270270e-03],\n",
       "        [2.75862069e-02, 3.44827586e-04],\n",
       "        [9.75609756e-02, 6.09756098e-04],\n",
       "        [3.37837838e-02, 6.75675676e-04],\n",
       "        [5.17241379e-02, 8.62068966e-04],\n",
       "        [2.06185567e-02, 1.03092784e-03]],\n",
       "\n",
       "       [[7.69230769e-02, 7.69230769e-03],\n",
       "        [1.79366701e-01, 2.04290092e-05],\n",
       "        [1.25000000e-01, 6.25000000e-03],\n",
       "        [5.88235294e-02, 5.88235294e-03],\n",
       "        [1.58730159e-02, 3.96825397e-04],\n",
       "        [8.33333333e-02, 8.33333333e-03],\n",
       "        [4.36300175e-02, 1.74520070e-04],\n",
       "        [8.56364344e-02, 3.89256520e-05],\n",
       "        [1.74496644e-01, 6.71140940e-04],\n",
       "        [6.80907877e-02, 1.33511348e-04]]])"
      ]
     },
     "execution_count": 112,
     "metadata": {},
     "output_type": "execute_result"
    }
   ],
   "source": [
    "div"
   ]
  },
  {
   "cell_type": "code",
   "execution_count": 22,
   "metadata": {},
   "outputs": [
    {
     "ename": "KeyboardInterrupt",
     "evalue": "",
     "output_type": "error",
     "traceback": [
      "\u001b[0;31m---------------------------------------------------------------------------\u001b[0m",
      "\u001b[0;31mKeyboardInterrupt\u001b[0m                         Traceback (most recent call last)",
      "\u001b[0;32m<ipython-input-22-c10cf7f08a8d>\u001b[0m in \u001b[0;36m<module>\u001b[0;34m\u001b[0m\n\u001b[1;32m      5\u001b[0m         \u001b[0;32mif\u001b[0m \u001b[0mnum_proc\u001b[0m \u001b[0;34m>=\u001b[0m \u001b[0mnum_tasks\u001b[0m\u001b[0;34m:\u001b[0m\u001b[0;34m\u001b[0m\u001b[0;34m\u001b[0m\u001b[0m\n\u001b[1;32m      6\u001b[0m             \u001b[0;32mcontinue\u001b[0m\u001b[0;34m\u001b[0m\u001b[0;34m\u001b[0m\u001b[0m\n\u001b[0;32m----> 7\u001b[0;31m         \u001b[0mgen_taskset\u001b[0m\u001b[0;34m(\u001b[0m\u001b[0mnum_proc\u001b[0m\u001b[0;34m,\u001b[0m \u001b[0mnum_tasks\u001b[0m\u001b[0;34m,\u001b[0m \u001b[0;34m\"gg\"\u001b[0m\u001b[0;34m)\u001b[0m\u001b[0;34m\u001b[0m\u001b[0;34m\u001b[0m\u001b[0m\n\u001b[0m",
      "\u001b[0;32m<ipython-input-21-ff901f23ea83>\u001b[0m in \u001b[0;36mgen_taskset\u001b[0;34m(num_procs, seq_len, ddir)\u001b[0m\n\u001b[1;32m     23\u001b[0m             \u001b[0mperiod_range\u001b[0m\u001b[0;34m=\u001b[0m\u001b[0;34m(\u001b[0m\u001b[0;36m10\u001b[0m\u001b[0;34m,\u001b[0m \u001b[0;36m10000\u001b[0m\u001b[0;34m)\u001b[0m\u001b[0;34m,\u001b[0m\u001b[0;34m\u001b[0m\u001b[0;34m\u001b[0m\u001b[0m\n\u001b[1;32m     24\u001b[0m             util=util)\n\u001b[0;32m---> 25\u001b[0;31m         \u001b[0mdataset\u001b[0m \u001b[0;34m=\u001b[0m \u001b[0msched\u001b[0m\u001b[0;34m.\u001b[0m\u001b[0mSchedT1Dataset\u001b[0m\u001b[0;34m(\u001b[0m\u001b[0margs\u001b[0m\u001b[0;34m.\u001b[0m\u001b[0mnum_procs\u001b[0m\u001b[0;34m,\u001b[0m \u001b[0margs\u001b[0m\u001b[0;34m.\u001b[0m\u001b[0mseq_len\u001b[0m\u001b[0;34m,\u001b[0m \u001b[0margs\u001b[0m\u001b[0;34m.\u001b[0m\u001b[0mnum_sample\u001b[0m\u001b[0;34m,\u001b[0m \u001b[0margs\u001b[0m\u001b[0;34m.\u001b[0m\u001b[0mperiod_range\u001b[0m\u001b[0;34m,\u001b[0m \u001b[0margs\u001b[0m\u001b[0;34m.\u001b[0m\u001b[0mutil\u001b[0m\u001b[0;34m,\u001b[0m \u001b[0mgg\u001b[0m\u001b[0;34m=\u001b[0m\u001b[0;32mTrue\u001b[0m\u001b[0;34m)\u001b[0m\u001b[0;34m\u001b[0m\u001b[0;34m\u001b[0m\u001b[0m\n\u001b[0m\u001b[1;32m     26\u001b[0m         \u001b[0;32mwith\u001b[0m \u001b[0mopen\u001b[0m\u001b[0;34m(\u001b[0m\u001b[0mos\u001b[0m\u001b[0;34m.\u001b[0m\u001b[0mpath\u001b[0m\u001b[0;34m.\u001b[0m\u001b[0mjoin\u001b[0m\u001b[0;34m(\u001b[0m\u001b[0mbase\u001b[0m\u001b[0;34m,\u001b[0m \u001b[0;34m\"%0.2f\"\u001b[0m \u001b[0;34m%\u001b[0m \u001b[0mutil\u001b[0m\u001b[0;34m)\u001b[0m\u001b[0;34m,\u001b[0m \u001b[0;34m'wb'\u001b[0m\u001b[0;34m)\u001b[0m \u001b[0;32mas\u001b[0m \u001b[0mf\u001b[0m\u001b[0;34m:\u001b[0m\u001b[0;34m\u001b[0m\u001b[0;34m\u001b[0m\u001b[0m\n\u001b[1;32m     27\u001b[0m             \u001b[0mpickle\u001b[0m\u001b[0;34m.\u001b[0m\u001b[0mdump\u001b[0m\u001b[0;34m(\u001b[0m\u001b[0mdataset\u001b[0m\u001b[0;34m,\u001b[0m \u001b[0mf\u001b[0m\u001b[0;34m)\u001b[0m\u001b[0;34m\u001b[0m\u001b[0;34m\u001b[0m\u001b[0m\n",
      "\u001b[0;32m/code/tsprl/sched.py\u001b[0m in \u001b[0;36m__init__\u001b[0;34m(self, num_procs, num_tasks, num_samples, period_range, util, gg)\u001b[0m\n\u001b[1;32m     78\u001b[0m             \u001b[0;32mfor\u001b[0m \u001b[0mi\u001b[0m \u001b[0;32min\u001b[0m \u001b[0mrange\u001b[0m\u001b[0;34m(\u001b[0m\u001b[0mnum_samples\u001b[0m\u001b[0;34m)\u001b[0m\u001b[0;34m:\u001b[0m\u001b[0;34m\u001b[0m\u001b[0;34m\u001b[0m\u001b[0m\n\u001b[1;32m     79\u001b[0m                 \u001b[0my\u001b[0m \u001b[0;34m=\u001b[0m  \u001b[0mnp\u001b[0m\u001b[0;34m.\u001b[0m\u001b[0mrandom\u001b[0m\u001b[0;34m.\u001b[0m\u001b[0muniform\u001b[0m\u001b[0;34m(\u001b[0m\u001b[0;36m0.3\u001b[0m\u001b[0;34m,\u001b[0m \u001b[0;36m1.5\u001b[0m\u001b[0;34m)\u001b[0m\u001b[0;34m\u001b[0m\u001b[0;34m\u001b[0m\u001b[0m\n\u001b[0;32m---> 80\u001b[0;31m                 \u001b[0mx\u001b[0m\u001b[0;34m.\u001b[0m\u001b[0mappend\u001b[0m\u001b[0;34m(\u001b[0m\u001b[0mStaffordRandFixedSum\u001b[0m\u001b[0;34m(\u001b[0m\u001b[0mself\u001b[0m\u001b[0;34m.\u001b[0m\u001b[0mnum_tasks\u001b[0m\u001b[0;34m,\u001b[0m \u001b[0my\u001b[0m\u001b[0;34m,\u001b[0m \u001b[0;36m1\u001b[0m\u001b[0;34m)\u001b[0m\u001b[0;34m)\u001b[0m\u001b[0;34m\u001b[0m\u001b[0;34m\u001b[0m\u001b[0m\n\u001b[0m\u001b[1;32m     81\u001b[0m             \u001b[0mutils\u001b[0m \u001b[0;34m=\u001b[0m \u001b[0mnp\u001b[0m\u001b[0;34m.\u001b[0m\u001b[0mvstack\u001b[0m\u001b[0;34m(\u001b[0m\u001b[0mx\u001b[0m\u001b[0;34m)\u001b[0m\u001b[0;34m\u001b[0m\u001b[0;34m\u001b[0m\u001b[0m\n\u001b[1;32m     82\u001b[0m         \u001b[0mexec_time\u001b[0m \u001b[0;34m=\u001b[0m \u001b[0mnp\u001b[0m\u001b[0;34m.\u001b[0m\u001b[0mfloor\u001b[0m\u001b[0;34m(\u001b[0m\u001b[0mperiods\u001b[0m \u001b[0;34m*\u001b[0m \u001b[0mutils\u001b[0m\u001b[0;34m)\u001b[0m\u001b[0;34m\u001b[0m\u001b[0;34m\u001b[0m\u001b[0m\n",
      "\u001b[0;31mKeyboardInterrupt\u001b[0m: "
     ]
    }
   ],
   "source": [
    "num_proc_list = [2]\n",
    "num_tasks_list = [10]\n",
    "for num_proc in num_proc_list:\n",
    "    for num_tasks in num_tasks_list:\n",
    "        if num_proc >= num_tasks:\n",
    "            continue\n",
    "        gen_taskset(num_proc, num_tasks, \"gg\")"
   ]
  },
  {
   "cell_type": "code",
   "execution_count": 16,
   "metadata": {},
   "outputs": [],
   "source": [
    "num_proc_list = [4, 8, 12, 16]\n",
    "num_tasks_list = [4, 8, 16, 32, 48, 64, 80]\n",
    "for num_proc in num_proc_list:\n",
    "    for num_tasks in num_tasks_list:\n",
    "        if num_proc >= num_tasks:\n",
    "            continue\n",
    "        gen_taskset(num_proc, num_tasks,\"tr\")"
   ]
  },
  {
   "cell_type": "code",
   "execution_count": 17,
   "metadata": {},
   "outputs": [
    {
     "data": {
      "text/plain": [
       "numpy.int64"
      ]
     },
     "execution_count": 17,
     "metadata": {},
     "output_type": "execute_result"
    }
   ],
   "source": [
    "type(np.sum(np.array([1, 2, 3])))"
   ]
  }
 ],
 "metadata": {
  "kernelspec": {
   "display_name": "Python 3",
   "language": "python",
   "name": "python3"
  },
  "language_info": {
   "codemirror_mode": {
    "name": "ipython",
    "version": 3
   },
   "file_extension": ".py",
   "mimetype": "text/x-python",
   "name": "python",
   "nbconvert_exporter": "python",
   "pygments_lexer": "ipython3",
   "version": "3.7.3"
  }
 },
 "nbformat": 4,
 "nbformat_minor": 2
}
