{
 "cells": [
  {
   "cell_type": "code",
   "execution_count": 83,
   "metadata": {},
   "outputs": [],
   "source": [
    "import numpy as np\n",
    "import importlib\n",
    "import torch"
   ]
  },
  {
   "cell_type": "code",
   "execution_count": 84,
   "metadata": {},
   "outputs": [
    {
     "data": {
      "text/plain": [
       "<module 'generator_emstada' from '/code/tsprl/generator_emstada.py'>"
      ]
     },
     "execution_count": 84,
     "metadata": {},
     "output_type": "execute_result"
    }
   ],
   "source": [
    "import generator_emstada as gen\n",
    "importlib.reload(gen)"
   ]
  },
  {
   "cell_type": "code",
   "execution_count": 108,
   "metadata": {},
   "outputs": [],
   "source": [
    "n = 10\n",
    "u = 3\n",
    "nsets = 1\n",
    "a = gen.StaffordRandFixedSum(n, u, nsets)"
   ]
  },
  {
   "cell_type": "code",
   "execution_count": 123,
   "metadata": {},
   "outputs": [],
   "source": [
    "gran = 2\n",
    "b = gen.gen_periods(n, nsets, low=16, high=256, gran=1, dist=\"poweroftwo\")"
   ]
  },
  {
   "cell_type": "code",
   "execution_count": 132,
   "metadata": {},
   "outputs": [
    {
     "data": {
      "text/plain": [
       "numpy.float64"
      ]
     },
     "execution_count": 132,
     "metadata": {},
     "output_type": "execute_result"
    }
   ],
   "source": [
    "type(a[0,0])"
   ]
  },
  {
   "cell_type": "code",
   "execution_count": 134,
   "metadata": {},
   "outputs": [],
   "source": [
    "x = np.floor(a*b).astype(np.int64)"
   ]
  },
  {
   "cell_type": "code",
   "execution_count": 146,
   "metadata": {},
   "outputs": [],
   "source": [
    "q = np.stack([x, b], axis=2)"
   ]
  },
  {
   "cell_type": "code",
   "execution_count": 147,
   "metadata": {},
   "outputs": [
    {
     "data": {
      "text/plain": [
       "(1, 10, 2)"
      ]
     },
     "execution_count": 147,
     "metadata": {},
     "output_type": "execute_result"
    }
   ],
   "source": [
    "q.shape"
   ]
  },
  {
   "cell_type": "code",
   "execution_count": 151,
   "metadata": {},
   "outputs": [
    {
     "data": {
      "text/plain": [
       "torch.Size([3, 10, 2])"
      ]
     },
     "execution_count": 151,
     "metadata": {},
     "output_type": "execute_result"
    }
   ],
   "source": [
    "torch.from_numpy(np.vstack([q, q, q])).shape"
   ]
  },
  {
   "cell_type": "code",
   "execution_count": 98,
   "metadata": {},
   "outputs": [
    {
     "data": {
      "text/plain": [
       "tensor([[[0.1885, 2.7726],\n",
       "         [0.5106, 4.8520],\n",
       "         [0.2484, 3.4657],\n",
       "         [0.0844, 4.8520],\n",
       "         [0.2881, 5.5452],\n",
       "         [0.0221, 3.4657],\n",
       "         [0.6787, 2.7726],\n",
       "         [0.4758, 4.8520],\n",
       "         [0.0857, 4.1589],\n",
       "         [0.4177, 2.7726]],\n",
       "\n",
       "        [[0.3165, 5.5452],\n",
       "         [0.1246, 4.8520],\n",
       "         [0.4341, 4.1589],\n",
       "         [0.2839, 5.5452],\n",
       "         [0.1484, 5.5452],\n",
       "         [0.4783, 3.4657],\n",
       "         [0.1446, 3.4657],\n",
       "         [0.2942, 4.8520],\n",
       "         [0.5036, 4.1589],\n",
       "         [0.2719, 2.7726]],\n",
       "\n",
       "        [[0.0194, 5.5452],\n",
       "         [0.2139, 3.4657],\n",
       "         [0.9128, 4.8520],\n",
       "         [0.3515, 4.8520],\n",
       "         [0.0182, 4.1589],\n",
       "         [0.3949, 2.7726],\n",
       "         [0.4925, 5.5452],\n",
       "         [0.3379, 5.5452],\n",
       "         [0.0448, 4.1589],\n",
       "         [0.2140, 2.7726]]], dtype=torch.float64)"
      ]
     },
     "execution_count": 98,
     "metadata": {},
     "output_type": "execute_result"
    }
   ],
   "source": [
    "torch.from_numpy(np.stack([a, np.log(b)])).permute(1, 2, 0)"
   ]
  },
  {
   "cell_type": "code",
   "execution_count": null,
   "metadata": {},
   "outputs": [],
   "source": []
  }
 ],
 "metadata": {
  "kernelspec": {
   "display_name": "Python 3",
   "language": "python",
   "name": "python3"
  },
  "language_info": {
   "codemirror_mode": {
    "name": "ipython",
    "version": 3
   },
   "file_extension": ".py",
   "mimetype": "text/x-python",
   "name": "python",
   "nbconvert_exporter": "python",
   "pygments_lexer": "ipython3",
   "version": "3.7.3"
  }
 },
 "nbformat": 4,
 "nbformat_minor": 2
}
