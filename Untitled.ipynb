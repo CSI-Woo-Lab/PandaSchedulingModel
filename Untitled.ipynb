{
 "cells": [
  {
   "cell_type": "code",
   "execution_count": 1,
   "metadata": {},
   "outputs": [],
   "source": [
    "import torch"
   ]
  },
  {
   "cell_type": "code",
   "execution_count": 1,
   "metadata": {},
   "outputs": [],
   "source": [
    "import numpy as np\n",
    "import torch\n",
    "import sched\n",
    "import argparse\n",
    "\n",
    "import torch\n",
    "import torch.autograd as autograd\n",
    "import torch.nn as nn\n",
    "import torch.nn.functional as F\n",
    "import torch.optim as optim\n",
    "from IPython.display import clear_output\n",
    "from torch.utils.data import DataLoader, Dataset\n",
    "from tqdm import tqdm\n",
    "\n",
    "from sched_solver import Solver\n",
    "from sched import SchedSingleDataset"
   ]
  },
  {
   "cell_type": "code",
   "execution_count": 43,
   "metadata": {},
   "outputs": [],
   "source": [
    "num_procs = 1\n",
    "sample_size = 32\n",
    "pointset_size = 4\n",
    "import sched_heuristic as heu"
   ]
  },
  {
   "cell_type": "code",
   "execution_count": 45,
   "metadata": {},
   "outputs": [
    {
     "name": "stdout",
     "output_type": "stream",
     "text": [
      "27 19\n"
     ]
    }
   ],
   "source": [
    "import importlib\n",
    "importlib.reload(heu)\n",
    "train_dataset = SchedSingleDataset(num_procs, pointset_size, sample_size, util_range=(0.90, 0.95))\n",
    "\n",
    "# Calculating heuristics\n",
    "rms = []\n",
    "sms = []\n",
    "tkcs = []\n",
    "rm_uss = []\n",
    "sm_uss = []\n",
    "r1, r2 = 0, 0 \n",
    "for i, pointset in (train_dataset):\n",
    "    ps = pointset.numpy()\n",
    "    opa_res = heu.OPA(ps, num_procs, heu.test_DA)\n",
    "    tkc_res = heu.get_TkC_priority(ps, num_procs, k=1.5)\n",
    "    opa = heu.check(ps, opa_res, num_procs)\n",
    "    tkc = heu.check(ps, tkc_res, num_procs)\n",
    "    r1 += opa\n",
    "    r2 += tkc \n",
    "print(r1, r2)"
   ]
  },
  {
   "cell_type": "code",
   "execution_count": null,
   "metadata": {},
   "outputs": [],
   "source": []
  },
  {
   "cell_type": "code",
   "execution_count": null,
   "metadata": {},
   "outputs": [],
   "source": []
  }
 ],
 "metadata": {
  "kernelspec": {
   "display_name": "Python 3",
   "language": "python",
   "name": "python3"
  },
  "language_info": {
   "codemirror_mode": {
    "name": "ipython",
    "version": 3
   },
   "file_extension": ".py",
   "mimetype": "text/x-python",
   "name": "python",
   "nbconvert_exporter": "python",
   "pygments_lexer": "ipython3",
   "version": "3.7.3"
  }
 },
 "nbformat": 4,
 "nbformat_minor": 2
}
